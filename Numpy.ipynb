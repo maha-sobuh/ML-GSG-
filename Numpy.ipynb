{
 "cells": [
  {
   "cell_type": "code",
   "execution_count": 80,
   "id": "0288a3da-59cb-4051-801a-1ae2ac127613",
   "metadata": {},
   "outputs": [],
   "source": [
    "import numpy as np"
   ]
  },
  {
   "cell_type": "code",
   "execution_count": 81,
   "id": "ce1427a4-bc59-4129-bd88-2ac9ff530eff",
   "metadata": {},
   "outputs": [
    {
     "data": {
      "text/plain": [
       "array([0., 0., 0., 0., 0.])"
      ]
     },
     "execution_count": 81,
     "metadata": {},
     "output_type": "execute_result"
    }
   ],
   "source": [
    "np.zeros(5)"
   ]
  },
  {
   "cell_type": "code",
   "execution_count": 82,
   "id": "bd6991e9-a436-41f8-8b6c-881f316a8c9b",
   "metadata": {},
   "outputs": [
    {
     "data": {
      "text/plain": [
       "array([1., 1., 1., 1., 1., 1., 1., 1., 1., 1.])"
      ]
     },
     "execution_count": 82,
     "metadata": {},
     "output_type": "execute_result"
    }
   ],
   "source": [
    "np.ones(10)"
   ]
  },
  {
   "cell_type": "code",
   "execution_count": 83,
   "id": "03822d10-0b9b-4fff-ac2c-94b9e5737562",
   "metadata": {},
   "outputs": [
    {
     "data": {
      "text/plain": [
       "array([2.5, 2.5, 2.5, 2.5, 2.5, 2.5, 2.5, 2.5, 2.5, 2.5])"
      ]
     },
     "execution_count": 83,
     "metadata": {},
     "output_type": "execute_result"
    }
   ],
   "source": [
    "np.full(10,2.5)"
   ]
  },
  {
   "cell_type": "code",
   "execution_count": 84,
   "id": "865a0f65-c160-47a0-92ee-76f05d7102a7",
   "metadata": {},
   "outputs": [
    {
     "data": {
      "text/plain": [
       "array([0, 1, 2, 3, 4, 5, 6, 7, 8, 9])"
      ]
     },
     "execution_count": 84,
     "metadata": {},
     "output_type": "execute_result"
    }
   ],
   "source": [
    "np.arange(10)"
   ]
  },
  {
   "cell_type": "code",
   "execution_count": 85,
   "id": "8193db6e-294d-44cf-9445-d604a7d8ff95",
   "metadata": {},
   "outputs": [
    {
     "data": {
      "text/plain": [
       "array([3, 4, 5, 6, 7, 8, 9])"
      ]
     },
     "execution_count": 85,
     "metadata": {},
     "output_type": "execute_result"
    }
   ],
   "source": [
    "np.arange(3,10)"
   ]
  },
  {
   "cell_type": "code",
   "execution_count": 86,
   "id": "b91c3d11-e5c1-43fb-bbad-3a71800a6a6e",
   "metadata": {},
   "outputs": [
    {
     "data": {
      "text/plain": [
       "array([0. , 0.7, 1.4, 2.1, 2.8, 3.5, 4.2, 4.9, 5.6, 6.3, 7. ])"
      ]
     },
     "execution_count": 86,
     "metadata": {},
     "output_type": "execute_result"
    }
   ],
   "source": [
    "#returns array filled with 11 number between 0 , 7\n",
    "np.linspace(0,7,11) \n"
   ]
  },
  {
   "cell_type": "code",
   "execution_count": 87,
   "id": "5f9a1b2c-0911-4f5e-a5dd-0491b54f1f62",
   "metadata": {},
   "outputs": [],
   "source": [
    "my_list=[1,2,4,6,7] "
   ]
  },
  {
   "cell_type": "code",
   "execution_count": 88,
   "id": "6298d045-bf70-4d2a-8bfa-d6cd2b75b5e3",
   "metadata": {},
   "outputs": [],
   "source": [
    "#sometimes it's better to use array than list \n",
    "my_array=np.array(my_list)"
   ]
  },
  {
   "cell_type": "code",
   "execution_count": 89,
   "id": "7ed2e7fb-80ca-4d6d-b61e-1d6c34c06617",
   "metadata": {},
   "outputs": [],
   "source": [
    "my_array=np.array([1,4,57,8,9,5])"
   ]
  },
  {
   "cell_type": "code",
   "execution_count": 90,
   "id": "700b9d33-f280-4c42-85f9-81d055a26c29",
   "metadata": {},
   "outputs": [],
   "source": [
    "sec_element=my_array[1]"
   ]
  },
  {
   "cell_type": "code",
   "execution_count": 91,
   "id": "160513a5-569c-4387-8fd0-70c8d1ba4603",
   "metadata": {},
   "outputs": [],
   "source": [
    "last_element = my_array[-1]"
   ]
  },
  {
   "cell_type": "code",
   "execution_count": 92,
   "id": "93d0f04d-024d-4ef4-bf22-bf702b33bd70",
   "metadata": {},
   "outputs": [
    {
     "name": "stdout",
     "output_type": "stream",
     "text": [
      "4\n",
      "5\n"
     ]
    }
   ],
   "source": [
    "print(sec_element) \n",
    "print(last_element)"
   ]
  },
  {
   "cell_type": "code",
   "execution_count": 93,
   "id": "704637d9-be3c-4f1e-b7ec-7db364cf08f9",
   "metadata": {},
   "outputs": [
    {
     "name": "stdout",
     "output_type": "stream",
     "text": [
      "9\n"
     ]
    }
   ],
   "source": [
    "print(my_array[-2])"
   ]
  },
  {
   "cell_type": "code",
   "execution_count": 94,
   "id": "12706906-09a4-4bf2-8c0e-749c79a5ae58",
   "metadata": {},
   "outputs": [],
   "source": [
    "subset_array=my_array[1:4]"
   ]
  },
  {
   "cell_type": "code",
   "execution_count": 95,
   "id": "a7730bf5-218b-4d59-a532-37402f833753",
   "metadata": {},
   "outputs": [
    {
     "data": {
      "text/plain": [
       "array([ 4, 57,  8])"
      ]
     },
     "execution_count": 95,
     "metadata": {},
     "output_type": "execute_result"
    }
   ],
   "source": [
    "subset_array"
   ]
  },
  {
   "cell_type": "code",
   "execution_count": 96,
   "id": "e3b90fac-dde8-4acc-ba41-7c75e7c56ba1",
   "metadata": {},
   "outputs": [
    {
     "name": "stdout",
     "output_type": "stream",
     "text": [
      "[[1 2 3]\n",
      " [4 5 6]]\n"
     ]
    }
   ],
   "source": [
    "#2D array \n",
    "arr=np.array([[1,2,3] , [4,5,6]])\n",
    "print(arr)"
   ]
  },
  {
   "cell_type": "code",
   "execution_count": 97,
   "id": "97c192a1-c059-47b4-a9a5-e63a4cdf1955",
   "metadata": {},
   "outputs": [
    {
     "name": "stdout",
     "output_type": "stream",
     "text": [
      "[[1 2]\n",
      " [3 4]]\n",
      "[[5 6]\n",
      " [7 8]]\n"
     ]
    }
   ],
   "source": [
    "arr1=np.array([[1,2],[3,4]]) \n",
    "arr2=np.array([[5,6],[7,8]]) \n",
    "print (arr1) \n",
    "print (arr2) "
   ]
  },
  {
   "cell_type": "code",
   "execution_count": 98,
   "id": "c693a180-bd29-47b8-b3c8-dfdc849059ef",
   "metadata": {},
   "outputs": [
    {
     "name": "stdout",
     "output_type": "stream",
     "text": [
      "[[ 6  8]\n",
      " [10 12]]\n"
     ]
    }
   ],
   "source": [
    "print (arr1+arr2)"
   ]
  },
  {
   "cell_type": "code",
   "execution_count": 99,
   "id": "5991402d-531d-4124-8009-dffdbc8309f0",
   "metadata": {},
   "outputs": [
    {
     "name": "stdout",
     "output_type": "stream",
     "text": [
      "[[ 5 12]\n",
      " [21 32]]\n"
     ]
    }
   ],
   "source": [
    "print (arr1*arr2)"
   ]
  },
  {
   "cell_type": "code",
   "execution_count": 100,
   "id": "0e30c14c-1f1e-4e2f-a20b-8d00025ee820",
   "metadata": {},
   "outputs": [
    {
     "data": {
      "text/plain": [
       "np.int64(10)"
      ]
     },
     "execution_count": 100,
     "metadata": {},
     "output_type": "execute_result"
    }
   ],
   "source": [
    "#summation of all elements \n",
    "sum_val=np.sum(arr1) \n",
    "sum_val"
   ]
  },
  {
   "cell_type": "code",
   "execution_count": 101,
   "id": "c4ce46da-2a2e-4b48-871b-3d1662df045e",
   "metadata": {},
   "outputs": [
    {
     "data": {
      "text/plain": [
       "array([2., 3.])"
      ]
     },
     "execution_count": 101,
     "metadata": {},
     "output_type": "execute_result"
    }
   ],
   "source": [
    "mean_val=np.mean(arr1,axis=0) \n",
    "mean_val"
   ]
  },
  {
   "cell_type": "code",
   "execution_count": 102,
   "id": "dbafb68f-d2b7-4fb2-8348-d7fdea52e312",
   "metadata": {},
   "outputs": [
    {
     "data": {
      "text/plain": [
       "array([1.5, 3.5])"
      ]
     },
     "execution_count": 102,
     "metadata": {},
     "output_type": "execute_result"
    }
   ],
   "source": [
    "mean_val=np.mean(arr1,axis=1) \n",
    "mean_val"
   ]
  },
  {
   "cell_type": "raw",
   "id": "49c5612f-3e4e-4d88-bd0b-4ca41f511db2",
   "metadata": {},
   "source": [
    "arr1= [1 2 \n",
    "       3 4] \n",
    "mean for axis 0 , is the mean of  each column , 1+3 / 2 = 2 , 2+4 /2 = 3 \n",
    "mean for axis 1 , is the mean of each row , 1+2 / 2 =1.5 , 3+4/2 = 3.5 "
   ]
  },
  {
   "cell_type": "code",
   "execution_count": 103,
   "id": "1d1eefcb-ab72-4978-b347-de001b639636",
   "metadata": {},
   "outputs": [
    {
     "name": "stdout",
     "output_type": "stream",
     "text": [
      "2\n"
     ]
    }
   ],
   "source": [
    "print (arr1[0,1])"
   ]
  },
  {
   "cell_type": "code",
   "execution_count": 104,
   "id": "a123f42e-1736-4ff7-bc65-7b6e8ff04170",
   "metadata": {},
   "outputs": [
    {
     "data": {
      "text/plain": [
       "array([1, 2])"
      ]
     },
     "execution_count": 104,
     "metadata": {},
     "output_type": "execute_result"
    }
   ],
   "source": [
    "#accesing to row \n",
    "row=arr1[0 , : ] \n",
    "row"
   ]
  },
  {
   "cell_type": "code",
   "execution_count": 105,
   "id": "66aceb29-c5ea-46e1-959e-d14b17bf639f",
   "metadata": {},
   "outputs": [
    {
     "data": {
      "text/plain": [
       "array([[1, 2, 3],\n",
       "       [7, 8, 9]])"
      ]
     },
     "execution_count": 105,
     "metadata": {},
     "output_type": "execute_result"
    }
   ],
   "source": [
    "#accesing to multiple rows \n",
    "arr=np.array([[1,2,3] , [4,5,6] , [7,8,9]] ) \n",
    "rows = arr[[0,2] , : ] \n",
    "rows "
   ]
  },
  {
   "cell_type": "code",
   "execution_count": 118,
   "id": "9769a0ea-faac-45d9-bc67-e40c81280d10",
   "metadata": {},
   "outputs": [
    {
     "data": {
      "text/plain": [
       "array([[0, 1, 1, 8, 2],\n",
       "       [8, 6, 9, 0, 5]], dtype=int32)"
      ]
     },
     "execution_count": 118,
     "metadata": {},
     "output_type": "execute_result"
    }
   ],
   "source": [
    "random_integers = np.random.randint (10,size=(2,5))\n",
    "random_integers "
   ]
  },
  {
   "cell_type": "code",
   "execution_count": 143,
   "id": "726de584-3e7d-4db7-933c-6dc901219ea0",
   "metadata": {},
   "outputs": [
    {
     "data": {
      "text/plain": [
       "array([[[ 0.56779976, -2.34189012,  0.86231505],\n",
       "        [ 0.08919341,  1.53159941,  0.23593144]],\n",
       "\n",
       "       [[-1.1177209 ,  0.07238898,  0.02810292],\n",
       "        [ 0.34706708, -0.70610016, -0.93663242]],\n",
       "\n",
       "       [[ 2.66572103, -1.19243679,  0.21033872],\n",
       "        [ 0.57184571,  0.90994736,  1.35821296]]])"
      ]
     },
     "execution_count": 143,
     "metadata": {},
     "output_type": "execute_result"
    }
   ],
   "source": [
    "random_normal = np.random.normal(size=(3,2,3))\n",
    "random_normal"
   ]
  },
  {
   "cell_type": "code",
   "execution_count": 147,
   "id": "bbac6492-7ab2-493b-8588-6ddacc40f28b",
   "metadata": {},
   "outputs": [
    {
     "data": {
      "text/plain": [
       "array([[0.65293173, 0.24720725, 0.40970119, 0.98965682],\n",
       "       [0.65493191, 0.50561982, 0.89703691, 0.93981398],\n",
       "       [0.01682991, 0.44374658, 0.36761099, 0.32972389]])"
      ]
     },
     "execution_count": 147,
     "metadata": {},
     "output_type": "execute_result"
    }
   ],
   "source": [
    "random_floats = np.random.random((3,4))\n",
    "random_floats "
   ]
  },
  {
   "cell_type": "code",
   "execution_count": 146,
   "id": "7ea076d9-92ad-449c-8a66-078523ad0095",
   "metadata": {},
   "outputs": [
    {
     "data": {
      "text/plain": [
       "array([[0.80614907, 0.64358636, 0.19305034, 0.92625726],\n",
       "       [0.45536079, 0.01734641, 0.33339319, 0.18723181],\n",
       "       [0.59335449, 0.56468116, 0.36896668, 0.18133093]])"
      ]
     },
     "execution_count": 146,
     "metadata": {},
     "output_type": "execute_result"
    }
   ],
   "source": [
    "np.random.rand(3,4)"
   ]
  },
  {
   "cell_type": "markdown",
   "id": "4062bb3f-99b7-4be7-aef0-eeb1c0a05058",
   "metadata": {},
   "source": [
    ".rand and .random have the same work \n",
    "but .random give us the ability to use a tuple as a size "
   ]
  },
  {
   "cell_type": "code",
   "execution_count": 148,
   "id": "6db9140a-7f23-42fc-9700-55a711a7e28b",
   "metadata": {},
   "outputs": [
    {
     "data": {
      "text/plain": [
       "array([0.0000000e+00, 1.0000000e+00, 1.2246468e-16])"
      ]
     },
     "execution_count": 148,
     "metadata": {},
     "output_type": "execute_result"
    }
   ],
   "source": [
    "arr=np.array([0,np.pi/2 , np.pi]) \n",
    "np.sin(arr)"
   ]
  },
  {
   "cell_type": "code",
   "execution_count": 149,
   "id": "687459a6-26c3-4e37-8453-74d84b2e8c25",
   "metadata": {},
   "outputs": [
    {
     "data": {
      "text/plain": [
       "array([ 1.        ,  4.81047738, 23.14069263])"
      ]
     },
     "execution_count": 149,
     "metadata": {},
     "output_type": "execute_result"
    }
   ],
   "source": [
    "np.exp(arr)"
   ]
  },
  {
   "cell_type": "code",
   "execution_count": null,
   "id": "0fbe6eb1-1994-434f-a5ee-61b92ca7196c",
   "metadata": {},
   "outputs": [],
   "source": []
  }
 ],
 "metadata": {
  "kernelspec": {
   "display_name": "Python 3 (ipykernel)",
   "language": "python",
   "name": "python3"
  },
  "language_info": {
   "codemirror_mode": {
    "name": "ipython",
    "version": 3
   },
   "file_extension": ".py",
   "mimetype": "text/x-python",
   "name": "python",
   "nbconvert_exporter": "python",
   "pygments_lexer": "ipython3",
   "version": "3.13.1"
  }
 },
 "nbformat": 4,
 "nbformat_minor": 5
}
